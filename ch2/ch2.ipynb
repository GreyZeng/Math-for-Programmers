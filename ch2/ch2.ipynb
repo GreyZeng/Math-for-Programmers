{
 "cells": [
  {
   "cell_type": "code",
   "execution_count": null,
   "metadata": {},
   "outputs": [],
   "source": [
    "from vector_drawing import *  # noqa: E402, F403\n",
    "from vectors import *\n",
    "from random import uniform"
   ]
  },
  {
   "cell_type": "code",
   "execution_count": null,
   "metadata": {},
   "outputs": [],
   "source": [
    "dino_vectors = [(6,4), (3,1), (1,2), (-1,5), (-2,5), (-3,4), (-4,4),\n",
    "    (-5,3), (-5,2), (-2,2), (-5,1), (-4,0), (-2,1), (-1,0), (0,-3),\n",
    "    (-1,-4), (1,-4), (2,-3), (1,-2), (3,-1), (5,1)\n",
    "]\n",
    "\n",
    "draw(  # noqa: F405\n",
    "    Points(*dino_vectors)  # noqa: F405\n",
    ")"
   ]
  },
  {
   "cell_type": "code",
   "execution_count": null,
   "metadata": {},
   "outputs": [],
   "source": [
    "draw(Points((2,2),(-1,3)),Segment((2,2),(-1,3),color=blue))"
   ]
  },
  {
   "cell_type": "code",
   "execution_count": null,
   "metadata": {},
   "outputs": [],
   "source": [
    "draw(\n",
    "    Points(*dino_vectors),\n",
    "    Segment((6,4),(3,1))\n",
    ")"
   ]
  },
  {
   "cell_type": "code",
   "execution_count": null,
   "metadata": {},
   "outputs": [],
   "source": [
    "draw(  # noqa: F405\n",
    "    Points(*dino_vectors),  # noqa: F405\n",
    "    Polygon(*dino_vectors)  # noqa: F405\n",
    ")"
   ]
  },
  {
   "cell_type": "code",
   "execution_count": null,
   "metadata": {},
   "outputs": [],
   "source": [
    "draw(Points(*[(2,-2)]),Segment((0,0),(2,-2)))"
   ]
  },
  {
   "cell_type": "code",
   "execution_count": null,
   "metadata": {},
   "outputs": [],
   "source": [
    "draw(Points(*[(x,x**2) for x in range(-10,11)]),grid=(1,10),nice_aspect_ratio=False)"
   ]
  },
  {
   "cell_type": "code",
   "execution_count": null,
   "metadata": {},
   "outputs": [],
   "source": [
    "dino_vectors2 = [add(v, (-1.5,2.5)) for v in dino_vectors]\n",
    "draw(Points(*dino_vectors,color=blue),\n",
    "     Polygon(*dino_vectors,color=red),\n",
    "     Points(*dino_vectors2,color=red),\n",
    "     Polygon(*dino_vectors2,color=blue)\n",
    "     )"
   ]
  },
  {
   "cell_type": "code",
   "execution_count": null,
   "metadata": {},
   "outputs": [],
   "source": [
    "def hundred_dinos():\n",
    "    translations = [(12*x,10*y)\n",
    "                    for x in range(-6,6)\n",
    "                    for y in range(-6,6)]\n",
    "    dinos = [Polygon(*translate(t, dino_vectors) ) for t in translations]\n",
    "    draw(*dinos)\n",
    "\n",
    "hundred_dinos()"
   ]
  },
  {
   "cell_type": "code",
   "execution_count": null,
   "metadata": {},
   "outputs": [],
   "source": [
    "u = (-1,1)\n",
    "v = (1,1)\n",
    "def random_r():\n",
    "    return uniform(-3,3)\n",
    "def random_s():\n",
    "    return uniform(-1,1)\n",
    "possible = [add(scale(random_r(),u),scale(random_s(),v)) for i in range(0,1200)]\n",
    "draw(Points(*possible))"
   ]
  },
  {
   "cell_type": "code",
   "execution_count": null,
   "metadata": {},
   "outputs": [],
   "source": [
    "perimeter([(1,0),(1,1),(0,1),(0,0)])\n",
    "perimeter(dino_vectors)"
   ]
  }
 ],
 "metadata": {
  "kernelspec": {
   "display_name": "Python 3",
   "language": "python",
   "name": "python3"
  },
  "language_info": {
   "codemirror_mode": {
    "name": "ipython",
    "version": 3
   },
   "file_extension": ".py",
   "mimetype": "text/x-python",
   "name": "python",
   "nbconvert_exporter": "python",
   "pygments_lexer": "ipython3",
   "version": "3.12.2"
  }
 },
 "nbformat": 4,
 "nbformat_minor": 2
}
