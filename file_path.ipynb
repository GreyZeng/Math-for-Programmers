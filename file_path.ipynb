{
 "cells": [
  {
   "cell_type": "code",
   "execution_count": 20,
   "id": "initial_id",
   "metadata": {
    "collapsed": true,
    "ExecuteTime": {
     "end_time": "2023-12-04T03:35:09.701625200Z",
     "start_time": "2023-12-04T03:35:09.676401200Z"
    }
   },
   "outputs": [
    {
     "data": {
      "text/plain": "True"
     },
     "execution_count": 20,
     "metadata": {},
     "output_type": "execute_result"
    }
   ],
   "source": [
    "from pathlib import Path\n",
    "import os\n",
    "Path.cwd().is_absolute()\n"
   ]
  },
  {
   "cell_type": "code",
   "execution_count": 21,
   "outputs": [
    {
     "data": {
      "text/plain": "WindowsPath('C:/workspace/hello-python')"
     },
     "execution_count": 21,
     "metadata": {},
     "output_type": "execute_result"
    }
   ],
   "source": [
    "Path.cwd()"
   ],
   "metadata": {
    "collapsed": false,
    "ExecuteTime": {
     "end_time": "2023-12-04T03:35:09.702643100Z",
     "start_time": "2023-12-04T03:35:09.679928500Z"
    }
   },
   "id": "dd709253116d98fe"
  },
  {
   "cell_type": "code",
   "execution_count": 22,
   "outputs": [
    {
     "data": {
      "text/plain": "False"
     },
     "execution_count": 22,
     "metadata": {},
     "output_type": "execute_result"
    }
   ],
   "source": [
    "Path('spam/bacon/eggs').is_absolute()"
   ],
   "metadata": {
    "collapsed": false,
    "ExecuteTime": {
     "end_time": "2023-12-04T03:35:09.703624700Z",
     "start_time": "2023-12-04T03:35:09.686028600Z"
    }
   },
   "id": "74f26dc94dcd530"
  },
  {
   "cell_type": "code",
   "execution_count": 23,
   "outputs": [
    {
     "data": {
      "text/plain": "WindowsPath('my/relative/path')"
     },
     "execution_count": 23,
     "metadata": {},
     "output_type": "execute_result"
    }
   ],
   "source": [
    "Path('my/relative/path')"
   ],
   "metadata": {
    "collapsed": false,
    "ExecuteTime": {
     "end_time": "2023-12-04T03:35:09.703624700Z",
     "start_time": "2023-12-04T03:35:09.691814400Z"
    }
   },
   "id": "cd333ad147edd1d9"
  },
  {
   "cell_type": "code",
   "execution_count": 24,
   "outputs": [
    {
     "data": {
      "text/plain": "WindowsPath('C:/workspace/hello-python/my/relative/path')"
     },
     "execution_count": 24,
     "metadata": {},
     "output_type": "execute_result"
    }
   ],
   "source": [
    "Path.cwd()/Path('my/relative/path')"
   ],
   "metadata": {
    "collapsed": false,
    "ExecuteTime": {
     "end_time": "2023-12-04T03:35:09.751320600Z",
     "start_time": "2023-12-04T03:35:09.697466100Z"
    }
   },
   "id": "cb7052f3800b21c8"
  },
  {
   "cell_type": "code",
   "execution_count": 25,
   "outputs": [
    {
     "data": {
      "text/plain": "WindowsPath('C:/Users/zhuiz/my/relative/path')"
     },
     "execution_count": 25,
     "metadata": {},
     "output_type": "execute_result"
    }
   ],
   "source": [
    "Path.home()/Path('my/relative/path')"
   ],
   "metadata": {
    "collapsed": false,
    "ExecuteTime": {
     "end_time": "2023-12-04T03:35:09.752323100Z",
     "start_time": "2023-12-04T03:35:09.701625200Z"
    }
   },
   "id": "f02f7e97fe050440"
  },
  {
   "cell_type": "code",
   "execution_count": 26,
   "outputs": [
    {
     "data": {
      "text/plain": "'C:\\\\workspace\\\\hello-python'"
     },
     "execution_count": 26,
     "metadata": {},
     "output_type": "execute_result"
    }
   ],
   "source": [
    "os.path.abspath('.')"
   ],
   "metadata": {
    "collapsed": false,
    "ExecuteTime": {
     "end_time": "2023-12-04T03:35:09.753549800Z",
     "start_time": "2023-12-04T03:35:09.707228300Z"
    }
   },
   "id": "11087c7efa8eb722"
  },
  {
   "cell_type": "code",
   "execution_count": 27,
   "outputs": [
    {
     "data": {
      "text/plain": "'C:\\\\workspace\\\\hello-python\\\\Scripts'"
     },
     "execution_count": 27,
     "metadata": {},
     "output_type": "execute_result"
    }
   ],
   "source": [
    "os.path.abspath('.\\\\Scripts')"
   ],
   "metadata": {
    "collapsed": false,
    "ExecuteTime": {
     "end_time": "2023-12-04T03:35:09.753549800Z",
     "start_time": "2023-12-04T03:35:09.711273500Z"
    }
   },
   "id": "b39ff865e0c58f61"
  },
  {
   "cell_type": "code",
   "execution_count": 28,
   "outputs": [
    {
     "data": {
      "text/plain": "False"
     },
     "execution_count": 28,
     "metadata": {},
     "output_type": "execute_result"
    }
   ],
   "source": [
    "os.path.isabs('.')"
   ],
   "metadata": {
    "collapsed": false,
    "ExecuteTime": {
     "end_time": "2023-12-04T03:35:09.754055500Z",
     "start_time": "2023-12-04T03:35:09.714150500Z"
    }
   },
   "id": "3a1f51e98ca49c59"
  },
  {
   "cell_type": "code",
   "execution_count": 29,
   "outputs": [
    {
     "data": {
      "text/plain": "True"
     },
     "execution_count": 29,
     "metadata": {},
     "output_type": "execute_result"
    }
   ],
   "source": [
    "os.path.isabs(os.path.abspath('.'))"
   ],
   "metadata": {
    "collapsed": false,
    "ExecuteTime": {
     "end_time": "2023-12-04T03:35:09.754055500Z",
     "start_time": "2023-12-04T03:35:09.718662600Z"
    }
   },
   "id": "5c2598ecda25533d"
  },
  {
   "cell_type": "code",
   "execution_count": 30,
   "outputs": [
    {
     "data": {
      "text/plain": "'Windows'"
     },
     "execution_count": 30,
     "metadata": {},
     "output_type": "execute_result"
    }
   ],
   "source": [
    "os.path.relpath('C:\\\\Windows','C:\\\\')"
   ],
   "metadata": {
    "collapsed": false,
    "ExecuteTime": {
     "end_time": "2023-12-04T03:35:09.754055500Z",
     "start_time": "2023-12-04T03:35:09.723114Z"
    }
   },
   "id": "4c46ac00139cda02"
  },
  {
   "cell_type": "code",
   "execution_count": 31,
   "outputs": [
    {
     "data": {
      "text/plain": "'..\\\\..\\\\Windows'"
     },
     "execution_count": 31,
     "metadata": {},
     "output_type": "execute_result"
    }
   ],
   "source": [
    "os.path.relpath('C:\\\\Windows','C:\\\\spam\\\\eggs')"
   ],
   "metadata": {
    "collapsed": false,
    "ExecuteTime": {
     "end_time": "2023-12-04T03:35:09.754055500Z",
     "start_time": "2023-12-04T03:35:09.726769100Z"
    }
   },
   "id": "131a873ffab10726"
  },
  {
   "cell_type": "code",
   "execution_count": 32,
   "outputs": [
    {
     "data": {
      "text/plain": "'C:\\\\'"
     },
     "execution_count": 32,
     "metadata": {},
     "output_type": "execute_result"
    }
   ],
   "source": [
    "p = Path('C:/Users/zhuiz/spam.txt')\n",
    "p.anchor"
   ],
   "metadata": {
    "collapsed": false,
    "ExecuteTime": {
     "end_time": "2023-12-04T03:35:09.755058300Z",
     "start_time": "2023-12-04T03:35:09.730866200Z"
    }
   },
   "id": "7a7371c3a572d091"
  },
  {
   "cell_type": "code",
   "execution_count": 33,
   "outputs": [
    {
     "data": {
      "text/plain": "WindowsPath('C:/Users/zhuiz')"
     },
     "execution_count": 33,
     "metadata": {},
     "output_type": "execute_result"
    }
   ],
   "source": [
    "p.parent"
   ],
   "metadata": {
    "collapsed": false,
    "ExecuteTime": {
     "end_time": "2023-12-04T03:35:09.755058300Z",
     "start_time": "2023-12-04T03:35:09.734884500Z"
    }
   },
   "id": "153b48edb6a0aaef"
  },
  {
   "cell_type": "code",
   "execution_count": 34,
   "outputs": [
    {
     "data": {
      "text/plain": "'spam.txt'"
     },
     "execution_count": 34,
     "metadata": {},
     "output_type": "execute_result"
    }
   ],
   "source": [
    "p.name"
   ],
   "metadata": {
    "collapsed": false,
    "ExecuteTime": {
     "end_time": "2023-12-04T03:35:09.755058300Z",
     "start_time": "2023-12-04T03:35:09.737701700Z"
    }
   },
   "id": "98e3e61ad9da40a1"
  },
  {
   "cell_type": "code",
   "execution_count": 35,
   "outputs": [
    {
     "data": {
      "text/plain": "'spam'"
     },
     "execution_count": 35,
     "metadata": {},
     "output_type": "execute_result"
    }
   ],
   "source": [
    "# 主干名，也叫文件名，和后缀名是区分的\n",
    "p.stem"
   ],
   "metadata": {
    "collapsed": false,
    "ExecuteTime": {
     "end_time": "2023-12-04T03:35:09.755058300Z",
     "start_time": "2023-12-04T03:35:09.741414100Z"
    }
   },
   "id": "18bcd16bd5a90e7f"
  },
  {
   "cell_type": "code",
   "execution_count": 36,
   "outputs": [
    {
     "data": {
      "text/plain": "'.txt'"
     },
     "execution_count": 36,
     "metadata": {},
     "output_type": "execute_result"
    }
   ],
   "source": [
    "p.suffix"
   ],
   "metadata": {
    "collapsed": false,
    "ExecuteTime": {
     "end_time": "2023-12-04T03:35:09.755058300Z",
     "start_time": "2023-12-04T03:35:09.745815700Z"
    }
   },
   "id": "54c59186cc680b70"
  },
  {
   "cell_type": "code",
   "execution_count": 37,
   "outputs": [
    {
     "data": {
      "text/plain": "'C:'"
     },
     "execution_count": 37,
     "metadata": {},
     "output_type": "execute_result"
    }
   ],
   "source": [
    "p.drive"
   ],
   "metadata": {
    "collapsed": false,
    "ExecuteTime": {
     "end_time": "2023-12-04T03:35:09.764058900Z",
     "start_time": "2023-12-04T03:35:09.749750Z"
    }
   },
   "id": "a501971cbc0da67"
  },
  {
   "cell_type": "code",
   "execution_count": 2,
   "outputs": [
    {
     "data": {
      "text/plain": "'calc.exe'"
     },
     "execution_count": 2,
     "metadata": {},
     "output_type": "execute_result"
    }
   ],
   "source": [
    "import os\n",
    "calc_file_path = 'C:\\\\Windows\\\\System32\\\\calc.exe'\n",
    "os.path.basename(calc_file_path)"
   ],
   "metadata": {
    "collapsed": false,
    "ExecuteTime": {
     "end_time": "2023-12-04T06:05:39.087458300Z",
     "start_time": "2023-12-04T06:05:39.064123300Z"
    }
   },
   "id": "209fbe1b679d1caf"
  },
  {
   "cell_type": "code",
   "execution_count": 3,
   "outputs": [
    {
     "data": {
      "text/plain": "'C:\\\\Windows\\\\System32'"
     },
     "execution_count": 3,
     "metadata": {},
     "output_type": "execute_result"
    }
   ],
   "source": [
    "os.path.dirname(calc_file_path)"
   ],
   "metadata": {
    "collapsed": false,
    "ExecuteTime": {
     "end_time": "2023-12-04T06:05:51.338085200Z",
     "start_time": "2023-12-04T06:05:51.314122Z"
    }
   },
   "id": "712ab963eb01cbb4"
  },
  {
   "cell_type": "code",
   "execution_count": 4,
   "outputs": [
    {
     "data": {
      "text/plain": "('C:\\\\Windows\\\\System32', 'calc.exe')"
     },
     "execution_count": 4,
     "metadata": {},
     "output_type": "execute_result"
    }
   ],
   "source": [
    "os.path.split(calc_file_path)"
   ],
   "metadata": {
    "collapsed": false,
    "ExecuteTime": {
     "end_time": "2023-12-04T06:06:03.914174900Z",
     "start_time": "2023-12-04T06:06:03.884299500Z"
    }
   },
   "id": "c994a10d53171e27"
  },
  {
   "cell_type": "code",
   "execution_count": 5,
   "outputs": [
    {
     "data": {
      "text/plain": "['C:', 'Windows', 'System32', 'calc.exe']"
     },
     "execution_count": 5,
     "metadata": {},
     "output_type": "execute_result"
    }
   ],
   "source": [
    "calc_file_path.split(os.sep)"
   ],
   "metadata": {
    "collapsed": false,
    "ExecuteTime": {
     "end_time": "2023-12-04T06:06:58.797083700Z",
     "start_time": "2023-12-04T06:06:58.781061500Z"
    }
   },
   "id": "7738e6e09ab7d356"
  },
  {
   "cell_type": "code",
   "execution_count": 6,
   "outputs": [
    {
     "data": {
      "text/plain": "45056"
     },
     "execution_count": 6,
     "metadata": {},
     "output_type": "execute_result"
    }
   ],
   "source": [
    "os.path.getsize(calc_file_path)"
   ],
   "metadata": {
    "collapsed": false,
    "ExecuteTime": {
     "end_time": "2023-12-04T06:07:28.658416800Z",
     "start_time": "2023-12-04T06:07:28.638563100Z"
    }
   },
   "id": "d63da31e96c71d0e"
  },
  {
   "cell_type": "code",
   "execution_count": 7,
   "outputs": [
    {
     "data": {
      "text/plain": "['0409',\n '0ae3b998-9a38-4b72-a4c4-06849441518d_Servicing-Stack.dll',\n '4545ffe2-0dc4-4df4-9d02-299ef204635e_hvsocket.dll',\n '69fe178f-26e7-43a9-aa7d-2b616b672dde_eventlogservice.dll',\n '6bea57fb-8dfb-4177-9ae8-42e8b3529933_RuntimeDeviceInstall.dll',\n '@AdvancedKeySettingsNotification.png',\n '@AppHelpToast.png',\n '@AudioToastIcon.png',\n '@BackgroundAccessToastIcon.png',\n '@bitlockertoastimage.png',\n '@edptoastimage.png',\n '@EnrollmentToastIcon.png',\n '@facial-recognition-windows-hello.gif',\n '@language_notification_icon.png',\n '@optionalfeatures.png',\n '@StorageSenseToastIcon.png',\n '@VpnToastIcon.png',\n '@WindowsHelloFaceToastIcon.png',\n '@WindowsUpdateToastIcon.contrast-black.png',\n '@WindowsUpdateToastIcon.contrast-white.png',\n '@WindowsUpdateToastIcon.png',\n '@WirelessDisplayToast.png',\n '@WLOGO_96x96.png',\n 'aadauthhelper.dll',\n 'aadcloudap.dll',\n 'aadjcsp.dll',\n 'aadtb.dll',\n 'aadWamExtension.dll',\n 'AarSvc.dll',\n 'AboutSettingsHandlers.dll',\n 'AboveLockAppHost.dll',\n 'accessibilitycpl.dll',\n 'accountaccessor.dll',\n 'AccountsRt.dll',\n 'AcGenral.dll',\n 'AcLayers.dll',\n 'acledit.dll',\n 'aclui.dll',\n 'acmigration.dll',\n 'ACPBackgroundManagerPolicy.dll',\n 'acppage.dll',\n 'acproxy.dll',\n 'AcSpecfc.dll',\n 'ActionCenter.dll',\n 'ActionCenterCPL.dll',\n 'ActionQueue.dll',\n 'ActivationClient.dll',\n 'ActivationManager.dll',\n 'activeds.dll',\n 'activeds.tlb',\n 'ActiveHours.png',\n 'ActiveSyncCsp.dll',\n 'ActiveSyncProvider.dll',\n 'actxprxy.dll',\n 'AcWinRT.dll',\n 'AcXtrnal.dll',\n 'AdaptiveCards.dll',\n 'AddressParser.dll',\n 'adhapi.dll',\n 'adhsvc.dll',\n 'adprovider.dll',\n 'adsldp.dll',\n 'adsldpc.dll',\n 'adsmsext.dll',\n 'adsnt.dll',\n 'adtschema.dll',\n 'AdvancedEmojiDS.dll',\n 'AdvancedInstallers',\n 'advapi32.dll',\n 'advapi32res.dll',\n 'advpack.dll',\n 'aeevts.dll',\n 'aeinv.dll',\n 'aemarebackup.dll',\n 'aepic.dll',\n 'agentactivationruntime.dll',\n 'agentactivationruntimestarter.exe',\n 'agentactivationruntimewindows.dll',\n 'AggregatorHost.exe',\n 'aitstatic.exe',\n 'AJRouter.dll',\n 'alg.exe',\n 'amcompat.tlb',\n 'amsi.dll',\n 'amsiproxy.dll',\n 'amstream.dll',\n 'Analog.Shell.Broker.dll',\n 'AnalogCommonProxyStub.dll',\n 'apds.dll',\n 'APHostClient.dll',\n 'APHostRes.dll',\n 'APHostService.dll',\n 'apisampling.dll',\n 'ApiSetHost.AppExecutionAlias.dll',\n 'apisetschema.dll',\n 'APMon.dll',\n 'APMonUI.dll',\n 'AppContracts.dll',\n 'AppExtension.dll',\n 'apphelp.dll',\n 'Apphlpdm.dll',\n 'AppHostRegistrationVerifier.exe',\n 'appidapi.dll',\n 'appidcertstorecheck.exe',\n 'appidpolicyconverter.exe',\n 'appidsvc.dll',\n 'appidtel.exe',\n 'appinfo.dll',\n 'appinfoext.dll',\n 'AppInstallerBackgroundUpdate.exe',\n 'AppInstallerPrompt.Desktop.dll',\n 'ApplicationControlCSP.dll',\n 'ApplicationFrame.dll',\n 'ApplicationFrameHost.exe',\n 'ApplicationTargetedFeatureDatabase.dll',\n 'AppListBackupLauncher.dll',\n 'AppLocker',\n 'AppLockerCSP.dll',\n 'ApplyTrustOffline.exe',\n 'AppMon.dll',\n 'AppointmentActivation.dll',\n 'AppointmentApis.dll',\n 'appraiser',\n 'appraiser.dll',\n 'AppReadiness.dll',\n 'apprepapi.dll',\n 'AppResolver.dll',\n 'ApproveChildRequest.exe',\n 'appsruprov.dll',\n 'appwiz.cpl',\n 'AppxAllUserStore.dll',\n 'AppXApplicabilityBlob.dll',\n 'AppxApplicabilityEngine.dll',\n 'AppXDeploymentClient.dll',\n 'AppXDeploymentExtensions.desktop.dll',\n 'AppXDeploymentExtensions.onecore.dll',\n 'AppXDeploymentServer.dll',\n 'AppxPackaging.dll',\n 'AppxProvisioning.xml',\n 'AppxSip.dll',\n 'AppxStreamingDataSourcePS.dll',\n 'AppxSysprep.dll',\n 'Apx01000.dll',\n 'ar-SA',\n 'archiveint.dll',\n 'ARP.EXE',\n 'asferror.dll',\n 'aspnet_counters.dll',\n 'AssignedAccessRuntime.dll',\n 'asycfilt.dll',\n 'at.exe',\n 'AtBroker.exe',\n 'atl.dll',\n 'atlthunk.dll',\n 'atmlib.dll',\n 'attrib.exe',\n 'audiodg.exe',\n 'AudioEndpointBuilder.dll',\n 'AudioEng.dll',\n 'AudioHandlers.dll',\n 'AUDIOKSE.dll',\n 'audioresourceregistrar.dll',\n 'AudioSes.dll',\n 'audiosrv.dll',\n 'AudioSrvPolicyManager.dll',\n 'auditcse.dll',\n 'auditpol.exe',\n 'auditpolcore.dll',\n 'AuthBroker.dll',\n 'AuthBrokerUI.dll',\n 'authentication.dll',\n 'AuthExt.dll',\n 'authfwcfg.dll',\n 'AuthFWGP.dll',\n 'AuthFWSnapin.dll',\n 'AuthFWWizFwk.dll',\n 'AuthHost.exe',\n 'AuthHostProxy.dll',\n 'authui.dll',\n 'authz.dll',\n 'autochk.exe',\n 'AutoModeDetect.exe',\n 'autopilot.dll',\n 'autopilotdiag.dll',\n 'autoplay.dll',\n 'AutoQuiet.dll',\n 'autotimesvc.dll',\n 'AverageRoom.bin',\n 'avicap32.dll',\n 'avifil32.dll',\n 'avrt.dll',\n 'AxInstSv.dll',\n 'AxInstUI.exe',\n 'azman.msc',\n 'azroles.dll',\n 'azroleui.dll',\n 'AzSqlExt.dll',\n 'BackgroundMediaPolicy.dll',\n 'backgroundTaskHost.exe',\n 'BackgroundTransferHost.exe',\n 'BamSettingsClient.dll',\n 'BarcodeProvisioningPlugin.dll',\n 'basecsp.dll',\n 'basesrv.dll',\n 'batmeter.dll',\n 'bcastdvr.proxy.dll',\n 'BcastDVRBroker.dll',\n 'BcastDVRClient.dll',\n 'BcastDVRCommon.dll',\n 'bcastdvruserservice.dll',\n 'bcd.dll',\n 'bcdboot.exe',\n 'bcdedit.exe',\n 'bcdprov.dll',\n 'bcdsrv.dll',\n 'BCP47Langs.dll',\n 'BCP47mrm.dll',\n 'bcrypt.dll',\n 'bcryptprimitives.dll',\n 'bdaplgin.ax',\n 'BdeHdCfgLib.dll',\n 'bderepair.dll',\n 'bdesvc.dll',\n 'bdeui.dll',\n 'BdeUISrv.exe',\n 'bdeunlock.exe',\n 'BFE.DLL',\n 'bg-BG',\n 'bi.dll',\n 'bidispl.dll',\n 'bindfltapi.dll',\n 'BingASDS.dll',\n 'BingFilterDS.dll',\n 'BingMaps.dll',\n 'BingOnlineServices.dll',\n 'BioCredProv.dll',\n 'BioIso.exe',\n 'bisrv.dll',\n 'BitLockerCsp.dll',\n 'BitLockerDeviceEncryption.exe',\n 'BitLockerWizardElev.exe',\n 'bitsadmin.exe',\n 'bitsigd.dll',\n 'bitsperf.dll',\n 'BitsProxy.dll',\n 'biwinrt.dll',\n 'BlbEvents.dll',\n 'blbres.dll',\n 'blb_ps.dll',\n 'BluetoothApis.dll',\n 'BluetoothDesktopHandlers.dll',\n 'BluetoothOppPushClient.dll',\n 'BluetoothPairingSystemToastIcon.contrast-black.png',\n 'BluetoothPairingSystemToastIcon.contrast-high.png',\n 'BluetoothPairingSystemToastIcon.contrast-white.png',\n 'BluetoothPairingSystemToastIcon.png',\n 'BluetoothSystemToastIcon.contrast-white.png',\n 'BluetoothSystemToastIcon.png',\n 'bnmanager.dll',\n 'Boot',\n 'boot.sdi',\n 'bootim.exe',\n 'BootMenuUX.dll',\n 'bootsect.exe',\n 'bootstr.dll',\n 'bootsvc.dll',\n 'bootux.dll',\n 'BOOTVID.DLL',\n 'bopomofo.uce',\n 'bridgeres.dll',\n 'bridgeunattend.exe',\n 'BrokerFileDialog.dat',\n 'BrokerFileDialog.dll',\n 'BrokerLib.dll',\n 'browcli.dll',\n 'browserbroker.dll',\n 'browserexport.exe',\n 'browser_broker.exe',\n 'browseui.dll',\n 'BTAGService.dll',\n 'BthAvctpSvc.dll',\n 'BthAvrcp.dll',\n 'BthAvrcpAppSvc.dll',\n 'bthci.dll',\n 'BthMtpContextHandler.dll',\n 'bthpanapi.dll',\n 'BthpanContextHandler.dll',\n 'Bthprops',\n 'bthprops.cpl',\n 'BthRadioMedia.dll',\n 'bthserv.dll',\n 'BthTelemetry.dll',\n 'bthudtask.exe',\n 'btpanui.dll',\n 'Bubbles.scr',\n 'BWContextHandler.dll',\n 'ByteCodeGenerator.exe',\n 'ca-ES',\n 'cabapi.dll',\n 'cabinet.dll',\n 'cabview.dll',\n 'cacls.exe',\n 'calc.exe',\n 'CallButtons.dll',\n 'CallButtons.ProxyStub.dll',\n 'CallHistoryClient.dll',\n 'CameraCaptureUI.dll',\n 'CameraSettingsUIHost.exe',\n 'camext.dll',\n 'CapabilityAccessHandlers.dll',\n 'CapabilityAccessManager.dll',\n 'CapabilityAccessManagerClient.dll',\n 'capauthz.dll',\n 'capiprovider.dll',\n 'capisp.dll',\n 'CaptureService.dll',\n 'CastingShellExt.dll',\n 'CastLaunch.dll',\n 'CastSrv.exe',\n 'CatRoot',\n 'catroot2',\n 'catsrv.dll',\n 'catsrvps.dll',\n 'catsrvut.dll',\n 'CBDHSvc.dll',\n 'cca.dll',\n 'cdd.dll',\n 'cdosys.dll',\n 'cdp.dll',\n 'cdprt.dll',\n 'cdpsvc.dll',\n 'cdpusersvc.dll',\n 'cellulardatacapabilityhandler.dll',\n 'cemapi.dll',\n 'cero.rs',\n 'certca.dll',\n 'certcli.dll',\n 'certCredProvider.dll',\n 'certenc.dll',\n 'CertEnroll.dll',\n 'CertEnrollCtrl.exe',\n 'CertEnrollUI.dll',\n 'certlm.msc',\n 'certmgr.dll',\n 'certmgr.msc',\n 'CertPKICmdlet.dll',\n 'CertPolEng.dll',\n 'certprop.dll',\n 'certreq.exe',\n 'certutil.exe',\n 'cewmdm.dll',\n 'cfgbkend.dll',\n 'cfgmgr32.dll',\n 'CfgSPCellular.dll',\n 'CfgSPPolicy.dll',\n 'cflapi.dll',\n 'cfmifs.dll',\n 'cfmifsproxy.dll',\n 'Chakra.dll',\n 'Chakradiag.dll',\n 'Chakrathunk.dll',\n 'changepk.exe',\n 'charmap.exe',\n 'chartv.dll',\n 'ChatApis.dll',\n 'chcp.com',\n 'CheckNetIsolation.exe',\n 'chkdsk.exe',\n 'chkntfs.exe',\n 'choice.exe',\n 'ChsStrokeDS.dll',\n 'chs_singlechar_pinyin.dat',\n 'ChtBopomofoDS.dll',\n 'ChtCangjieDS.dll',\n 'ChtHkStrokeDS.dll',\n 'ChtQuickDS.dll',\n 'ChxAPDS.dll',\n 'ChxDecoder.dll',\n 'ChxHAPDS.dll',\n 'chxinputrouter.dll',\n 'chxranker.dll',\n 'CHxReadingStringIME.dll',\n 'ci.dll',\n 'cic.dll',\n 'CIDiag.exe',\n 'cimfs.dll',\n 'cipher.exe',\n 'CIRCoInst.dll',\n 'CiTool.exe',\n 'clbcatq.dll',\n 'cldapi.dll',\n 'cleanmgr.exe',\n 'CleanPCCSP.dll',\n 'clfsw32.dll',\n 'cliconfg.dll',\n 'cliconfg.exe',\n 'cliconfg.rll',\n 'clip.exe',\n 'ClipboardServer.dll',\n 'Clipc.dll',\n 'ClipRenew.exe',\n 'ClipSVC.dll',\n 'ClipUp.exe',\n 'clipwinrt.dll',\n 'cloudAP.dll',\n 'CloudDesktopCSP.dll',\n 'CloudDomainJoinAUG.dll',\n 'CloudDomainJoinDataModelServer.dll',\n 'CloudExperienceHost.dll',\n 'CloudExperienceHostBroker.dll',\n 'CloudExperienceHostBroker.exe',\n 'CloudExperienceHostCommon.dll',\n 'CloudExperienceHostRedirection.dll',\n 'CloudExperienceHostUser.dll',\n 'CloudIdWxhExtension.dll',\n 'CloudNotifications.exe',\n 'CloudRecoveryDownloadTool.dll',\n 'CloudRestoreLauncher.dll',\n 'clrhost.dll',\n 'clusapi.dll',\n 'cmcfg32.dll',\n 'cmd.exe',\n 'cmdext.dll',\n 'cmdial32.dll',\n 'cmdkey.exe',\n 'cmdl32.exe',\n 'cmgrcspps.dll',\n 'cmifw.dll',\n 'cmintegrator.dll',\n 'cmlua.dll',\n 'cmmon32.exe',\n 'cmpbk32.dll',\n 'cmstp.exe',\n 'cmstplua.dll',\n 'cmutil.dll',\n 'cngcredui.dll',\n 'cngprovider.dll',\n 'cnvfat.dll',\n 'cob-au.rs',\n 'CodeIntegrity',\n 'CodeIntegrityAggregator.dll',\n 'cofire.exe',\n 'cofiredm.dll',\n 'colbact.dll',\n 'COLORCNV.DLL',\n 'colorcpl.exe',\n 'colorui.dll',\n 'Com',\n 'combase.dll',\n 'comcat.dll',\n 'comctl32.dll',\n 'comdlg32.dll',\n 'comexp.msc',\n 'coml2.dll',\n 'comp.exe',\n 'compact.exe',\n 'CompatAggregator.dll',\n 'CompatTelRunner.exe',\n 'compmgmt.msc',\n 'CompMgmtLauncher.exe',\n 'ComposableShellProxyStub.dll',\n 'ComposerFramework.dll',\n 'CompPkgSrv.exe',\n 'CompPkgSup.dll',\n 'compstui.dll',\n 'computecore.dll',\n 'computelibeventlog.dll',\n 'computenetwork.dll',\n 'ComputerDefaults.exe',\n 'ComputerToastIcon.contrast-white.png',\n 'ComputerToastIcon.png',\n 'computestorage.dll',\n 'comrepl.dll',\n 'comres.dll',\n 'comsnap.dll',\n 'comsvcs.dll',\n 'comuid.dll',\n 'concrt140.dll',\n 'config',\n 'configmanager2.dll',\n 'Configuration',\n 'ConfigureExpandedStorage.dll',\n 'conhost.exe',\n 'ConhostV1.dll',\n 'connect.dll',\n 'ConnectedAccountState.dll',\n 'consent.exe',\n 'ConsentExperienceCommon.dll',\n 'ConsentUX.dll',\n 'ConsentUxClient.dll',\n 'console.dll',\n 'ConsoleLogon.dll',\n 'ConstraintIndex.Search.dll',\n 'ContactActivation.dll',\n 'ContactApis.dll',\n 'ContactHarvesterDS.dll',\n 'container.dll',\n 'containerdevicemanagement.dll',\n 'ContentDeliveryManager.Utilities.dll',\n 'control.exe',\n 'ControlLib.dll',\n 'convert.exe',\n 'convertvhd.exe',\n 'coreaudiopolicymanagerext.dll',\n 'coredpus.dll',\n 'coredpussvr.exe',\n 'coreglobconfig.dll',\n 'CoreMas.dll',\n 'CoreMessaging.dll',\n 'CoreMmRes.dll',\n 'CorePrivacySettingsStore.dll',\n 'CoreShell.dll',\n 'CoreShellAPI.dll',\n 'CoreShellExtFramework.dll',\n 'CoreUIComponents.dll',\n 'correngine.dll',\n 'CourtesyEngine.dll',\n 'CPFilters.dll',\n 'CredDialogBroker.dll',\n 'CredentialEnrollmentManager.exe',\n 'CredentialEnrollmentManagerForUser.dll',\n 'CredentialUIBroker.exe',\n 'CredProv2faHelper.dll',\n 'CredProvCommonCore.dll',\n 'CredProvDataModel.dll',\n 'CredProvHelper.dll',\n 'credprovhost.dll',\n 'credprovs.dll',\n 'credprovslegacy.dll',\n 'credssp.dll',\n 'credui.dll',\n 'credwiz.exe',\n 'crypt32.dll',\n 'cryptbase.dll',\n 'cryptcatsvc.dll',\n 'cryptdlg.dll',\n 'cryptdll.dll',\n 'cryptext.dll',\n 'cryptnet.dll',\n 'cryptngc.dll',\n 'CryptoWinRT.dll',\n 'cryptsp.dll',\n 'cryptsvc.dll',\n 'crypttpmeksvc.dll',\n 'cryptui.dll',\n 'cryptuiwizard.dll',\n 'cryptxml.dll',\n 'cs-CZ',\n 'cscapi.dll',\n 'cscdll.dll',\n 'cscript.exe',\n 'CspCellularSettings.dll',\n 'csplte.dll',\n 'CspProxy.dll',\n 'csrr.rs',\n 'csrsrv.dll',\n 'csrss.exe',\n 'CSystemEventsBrokerClient.dll',\n 'ctac.json',\n 'ctfmon.exe',\n 'cttune.exe',\n 'cttunesvr.exe',\n 'curl.exe',\n 'CustomInstallExec.exe',\n 'cxcredprov.dll',\n 'CXHProvisioningServer.dll',\n 'C_037.NLS',\n 'C_10000.NLS',\n 'C_10001.NLS',\n 'C_10002.NLS',\n 'C_10003.NLS',\n 'C_10004.NLS',\n 'C_10005.NLS',\n 'C_10006.NLS',\n 'C_10007.NLS',\n 'C_10008.NLS',\n 'C_10010.NLS',\n 'C_10017.NLS',\n 'C_10021.NLS',\n 'C_10029.NLS',\n 'C_10079.NLS',\n 'C_10081.NLS',\n 'C_10082.NLS',\n 'C_1026.NLS',\n 'C_1047.NLS',\n 'C_1140.NLS',\n 'C_1141.NLS',\n 'C_1142.NLS',\n 'C_1143.NLS',\n 'C_1144.NLS',\n 'C_1145.NLS',\n 'C_1146.NLS',\n 'C_1147.NLS',\n 'C_1148.NLS',\n 'C_1149.NLS',\n 'C_1250.NLS',\n 'C_1251.NLS',\n 'C_1252.NLS',\n 'C_1253.NLS',\n 'C_1254.NLS',\n 'C_1255.NLS',\n 'C_1256.NLS',\n 'C_1257.NLS',\n 'C_1258.NLS',\n 'C_1361.NLS',\n 'C_20000.NLS',\n 'C_20001.NLS',\n 'C_20002.NLS',\n 'C_20003.NLS',\n 'C_20004.NLS',\n 'C_20005.NLS',\n 'C_20105.NLS',\n 'C_20106.NLS',\n 'C_20107.NLS',\n 'C_20108.NLS',\n 'C_20127.NLS',\n 'C_20261.NLS',\n 'C_20269.NLS',\n 'C_20273.NLS',\n 'C_20277.NLS',\n 'C_20278.NLS',\n 'C_20280.NLS',\n 'C_20284.NLS',\n 'C_20285.NLS',\n 'C_20290.NLS',\n 'C_20297.NLS',\n 'C_20420.NLS',\n 'C_20423.NLS',\n 'C_20424.NLS',\n 'C_20833.NLS',\n 'C_20838.NLS',\n 'C_20866.NLS',\n 'C_20871.NLS',\n 'C_20880.NLS',\n 'C_20905.NLS',\n 'C_20924.NLS',\n 'C_20932.NLS',\n 'C_20936.NLS',\n 'C_20949.NLS',\n 'C_21025.NLS',\n 'C_21027.NLS',\n 'C_21866.NLS',\n 'C_28591.NLS',\n 'C_28592.NLS',\n 'C_28593.NLS',\n 'C_28594.NLS',\n 'C_28595.NLS',\n 'C_28596.NLS',\n 'C_28597.NLS',\n 'C_28598.NLS',\n 'C_28599.NLS',\n 'c_28603.nls',\n 'C_28605.NLS',\n 'C_437.NLS',\n 'C_500.NLS',\n 'C_708.NLS',\n 'C_720.NLS',\n 'C_737.NLS',\n 'C_775.NLS',\n 'C_850.NLS',\n 'C_852.NLS',\n 'C_855.NLS',\n 'C_857.NLS',\n 'C_858.NLS',\n 'C_860.NLS',\n 'C_861.NLS',\n 'C_862.NLS',\n 'C_863.NLS',\n 'C_864.NLS',\n 'C_865.NLS',\n 'C_866.NLS',\n 'C_869.NLS',\n 'C_870.NLS',\n 'C_874.NLS',\n 'C_875.NLS',\n 'C_932.NLS',\n 'C_936.NLS',\n 'C_949.NLS',\n 'C_950.NLS',\n 'C_G18030.DLL',\n 'c_GSM7.DLL',\n 'C_IS2022.DLL',\n 'C_ISCII.DLL',\n 'd2d1.dll',\n 'd2d1debug3.dll',\n 'd3d10.dll',\n 'd3d10core.dll',\n 'd3d10level9.dll',\n 'd3d10warp.dll',\n 'd3d10_1.dll',\n 'd3d10_1core.dll',\n 'd3d11.dll',\n 'd3d11on12.dll',\n 'd3d11_3SDKLayers.dll',\n 'D3D12.dll',\n 'D3D12Core.dll',\n 'd3d12SDKLayers.dll',\n 'd3d8thk.dll',\n 'd3d9.dll',\n 'd3d9on12.dll',\n 'D3DCompiler_47.dll',\n 'd3dconfig.exe',\n 'D3DSCache.dll',\n 'da-DK',\n 'dab.dll',\n 'dabapi.dll',\n 'DAConn.dll',\n 'dafAspInfraProvider.dll',\n 'dafBth.dll',\n 'DafDnsSd.dll',\n 'dafDockingProvider.dll',\n 'DAFESCL.dll',\n 'DafGip.dll',\n 'DAFIoT.dll',\n 'DAFIPP.dll',\n 'DAFMCP.dll',\n 'dafpos.dll',\n 'DafPrintProvider.dll',\n 'dafupnp.dll',\n 'dafWCN.dll',\n 'dafWfdProvider.dll',\n 'DAFWiProv.dll',\n 'DAFWSD.dll',\n 'DAMediaManager.dll',\n 'DAMM.dll',\n 'DaOtpCredentialProvider.dll',\n 'das.dll',\n 'dasHost.exe',\n 'dataclen.dll',\n 'DataExchange.dll',\n 'DataExchangeHost.exe',\n 'DataStoreCacheDumpTool.exe',\n 'datusage.dll',\n 'davclnt.dll',\n 'davhlpr.dll',\n 'DavSyncProvider.dll',\n 'daxexec.dll',\n 'dbgcore.dll',\n 'dbgeng.dll',\n 'dbghelp.dll',\n 'DbgModel.dll',\n 'dbnetlib.dll',\n 'dbnmpntw.dll',\n 'dccw.exe',\n 'dciman32.dll',\n 'dcntel.dll',\n 'dcomcnfg.exe',\n 'dcomp.dll',\n 'dcsvc.dll',\n 'DDACLSys.dll',\n 'DdcClaimsApi.dll',\n 'DdcComImplementationsDesktop.dll',\n 'DDDS.dll',\n 'DDFs',\n 'ddisplay.dll',\n 'ddodiag.exe',\n 'DDOIProxy.dll',\n 'DDORes.dll',\n 'ddraw.dll',\n 'ddrawex.dll',\n 'de-DE',\n 'declaredconfiguration.dll',\n 'DefaultAccountTile.png',\n 'DefaultDeviceManager.dll',\n 'DefaultHrtfs.bin',\n 'DefaultPrinterProvider.dll',\n 'DefaultQuestions.json',\n 'Defrag.exe',\n 'defragproxy.dll',\n 'defragres.dll',\n 'defragsvc.dll',\n 'delegatorprovider.dll',\n 'DeliveryOptimizationMIProv.mof',\n 'DeliveryOptimizationMIProvUninstall.mof',\n 'deploymentcsphelper.exe',\n 'deploymentcsps.dll',\n 'desk.cpl',\n 'deskadp.dll',\n 'deskmon.dll',\n 'desktopimgdownldr.exe',\n 'DesktopShellAppStateContract.dll',\n 'DesktopShellExt.dll',\n 'DesktopSwitcherDataModel.dll',\n 'DesktopView.Internal.Broker.dll',\n 'DesktopView.Internal.Broker.ProxyStub.dll',\n 'DetailedReading-Default.xml',\n 'DevDispItemProvider.dll',\n 'DeveloperOptionsSettingsHandlers.dll',\n 'devenum.dll',\n 'deviceaccess.dll',\n 'deviceassociation.dll',\n 'DeviceCensus.exe',\n 'DeviceCenter.dll',\n 'DeviceCompanionAppInstall.dll',\n 'DeviceCredential.dll',\n 'DeviceCredentialDeployment.exe',\n 'DeviceDirectoryClient.dll',\n 'DeviceDisplayStatusManager.dll',\n 'DeviceDriverRetrievalClient.dll',\n 'DeviceEject.exe',\n 'DeviceElementSource.dll',\n 'DeviceEnroller.exe',\n 'DeviceFlows.DataModel.dll',\n 'DeviceMetadataRetrievalClient.dll',\n 'devicengccredprov.dll',\n 'DevicePairing.dll',\n 'DevicePairingExperienceMEM.dll',\n 'DevicePairingFolder.dll',\n 'DevicePairingProxy.dll',\n 'DevicePairingWizard.exe',\n 'DeviceProperties.exe',\n 'DeviceReactivation.dll',\n 'deviceregistration.dll',\n 'DeviceSetupManager.dll',\n 'DeviceSetupManagerAPI.dll',\n 'DeviceSetupStatusProvider.dll',\n 'DevicesFlowBroker.dll',\n 'DeviceSoftwareInstallationClient.dll',\n 'DeviceUpdateAgent.dll',\n 'DeviceUxRes.dll',\n 'devinv.dll',\n 'devmgmt.msc',\n 'devmgr.dll',\n 'DevModeRunAsUserConfig.msc',\n 'devobj.dll',\n 'DevPropMgr.dll',\n 'DevQueryBroker.dll',\n 'devrtl.dll',\n 'dfdts.dll',\n 'DFDWiz.exe',\n 'dfrgui.exe',\n 'dfscli.dll',\n 'dfshim.dll',\n 'DfsShlEx.dll',\n 'dhcpcmonitor.dll',\n 'dhcpcore.dll',\n 'dhcpcore6.dll',\n 'dhcpcsvc.dll',\n 'dhcpcsvc6.dll',\n 'dhcpsapi.dll',\n 'DHolographicDisplay.dll',\n 'DiagCpl.dll',\n 'diagnosticdataquery.dll',\n 'DiagnosticDataSettings.dll',\n 'DiagnosticInvoker.dll',\n 'DiagnosticLogCSP.dll',\n 'diagperf.dll',\n 'DiagSvc.dll',\n 'DiagSvcs',\n 'diagtrack.dll',\n 'dialclient.dll',\n 'dialer.exe',\n 'dialserver.dll',\n 'DictationManager.dll',\n 'difxapi.dll',\n 'dimsjob.dll',\n 'dimsroam.dll',\n 'dinput.dll',\n 'dinput8.dll',\n 'Direct2DDesktop.dll',\n 'directmanipulation.dll',\n 'DirectML.Debug.dll',\n 'directml.dll',\n 'directxdatabasehelper.dll',\n 'directxdatabaseupdater.exe',\n 'discan.dll',\n 'diskmgmt.msc',\n 'diskpart.exe',\n 'diskperf.exe',\n 'diskraid.exe',\n 'DiskSnapshot.conf',\n 'DiskSnapshot.exe',\n 'diskusage.exe',\n 'Dism',\n 'Dism.exe',\n 'DismApi.dll',\n 'DispBroker.Desktop.dll',\n 'DispBroker.dll',\n 'dispdiag.exe',\n 'dispex.dll',\n 'Display.dll',\n 'DisplayManager.dll',\n 'DisplaySwitch.exe',\n 'DisplaySystemToastIcon.contrast-white.png',\n 'DisplaySystemToastIcon.png',\n 'djctq.rs',\n 'djoin.exe',\n 'dllhost.exe',\n 'dllhst3g.exe',\n 'dlnashext.dll',\n 'DMAlertListener.ProxyStub.dll',\n 'DmApiSetExtImplDesktop.dll',\n 'DMAppsRes.dll',\n 'dmcertinst.exe',\n 'dmcfghost.exe',\n 'dmcfgutils.dll',\n 'dmclient.exe',\n 'dmcmnutils.dll',\n 'dmcommandlineutils.dll',\n 'dmcsps.dll',\n 'dmdlgs.dll',\n 'dmdskmgr.dll',\n 'dmdskres.dll',\n 'dmdskres2.dll',\n 'dmenrollengine.dll',\n 'dmenterprisediagnostics.dll',\n 'dmintf.dll',\n 'dmiso8601utils.dll',\n 'dmloader.dll',\n 'DmNotificationBroker.exe',\n 'dmocx.dll',\n 'dmoleaututils.dll',\n 'DmOmaCpMo.exe',\n 'dmprocessxmlfiltered.dll',\n 'dmpushproxy.dll',\n 'DMPushRouterCore.dll',\n 'DMRCDecoder.dll',\n 'DMRServer.dll',\n 'dmsynth.dll',\n 'dmusic.dll',\n 'dmutil.dll',\n 'dmvdsitf.dll',\n 'dmview.ocx',\n 'dmwappushsvc.dll',\n 'dmwmicsp.dll',\n 'dmxmlhelputils.dll',\n 'dnsapi.dll',\n 'dnscacheugc.exe',\n 'dnscmmc.dll',\n 'dnsext.dll',\n 'dnshc.dll',\n 'dnsrslvr.dll',\n 'Docking.VirtualInput.dll',\n 'DockInterface.ProxyStub.dll',\n 'doclient.dll',\n 'docprop.dll',\n 'DocumentPerformanceEvents.dll',\n 'DolbyDecMFT.dll',\n 'domgmt.dll',\n 'domiprov.dll',\n 'dosettings.dll',\n 'doskey.exe',\n 'dosvc.dll',\n 'dot3api.dll',\n 'dot3cfg.dll',\n 'Dot3Conn.dll',\n 'dot3dlg.dll',\n 'dot3gpclnt.dll',\n 'dot3gpui.dll',\n 'dot3hc.dll',\n 'dot3mm.dll',\n 'dot3msm.dll',\n 'dot3svc.dll',\n 'dot3ui.dll',\n 'downlevel',\n 'dpapi.dll',\n 'dpapimig.exe',\n 'dpapiprovider.dll',\n 'dpapisrv.dll',\n 'DpiScaling.exe',\n 'dplcsp.dll',\n 'dpnaddr.dll',\n 'dpnathlp.dll',\n 'dpnet.dll',\n 'dpnhpast.dll',\n 'dpnhupnp.dll',\n 'dpnlobby.dll',\n 'dpnsvr.exe',\n 'dps.dll',\n 'dpx.dll',\n 'DragDropExperienceCommon.dll',\n 'DragDropExperienceDataExchangeDelegated.dll',\n 'driverquery.exe',\n 'drivers',\n 'DriverState',\n 'DriverStore',\n 'drprov.dll',\n 'drt.dll',\n 'DrtmAuthTxt.wim',\n 'drtprov.dll',\n 'drttransport.dll',\n 'drvinst.exe',\n 'drvsetup.dll',\n 'DRVSTORE',\n 'drvstore.dll',\n 'dsauth.dll',\n 'dsc',\n 'DscCore.dll',\n 'DscCoreConfProv.dll',\n 'dsclient.dll',\n 'dscproxy.dll',\n 'DscTimer.dll',\n 'dsdmo.dll',\n 'dskquota.dll',\n 'dskquoui.dll',\n 'DsmUserTask.exe',\n 'dsound.dll',\n 'dsparse.dll',\n 'dsprop.dll',\n 'dsquery.dll',\n ...]"
     },
     "execution_count": 7,
     "metadata": {},
     "output_type": "execute_result"
    }
   ],
   "source": [
    "# 包含文件和文件夹\n",
    "os.listdir('C:\\\\Windows\\\\System32')"
   ],
   "metadata": {
    "collapsed": false,
    "ExecuteTime": {
     "end_time": "2023-12-04T06:07:50.456064500Z",
     "start_time": "2023-12-04T06:07:50.421582300Z"
    }
   },
   "id": "9eac0adfa29db500"
  },
  {
   "cell_type": "code",
   "execution_count": 8,
   "outputs": [
    {
     "name": "stdout",
     "output_type": "stream",
     "text": [
      "2222301472\n"
     ]
    }
   ],
   "source": [
    "total_size = 0\n",
    "for file_name in os.listdir('C:\\\\Windows\\\\System32'):\n",
    "    total_size = total_size + os.path.getsize(os.path.join('C:\\\\Windows\\\\System32',file_name))\n",
    "print(total_size)"
   ],
   "metadata": {
    "collapsed": false,
    "ExecuteTime": {
     "end_time": "2023-12-04T06:09:12.444425100Z",
     "start_time": "2023-12-04T06:09:12.344466400Z"
    }
   },
   "id": "64beda28c5dd2201"
  },
  {
   "cell_type": "code",
   "execution_count": null,
   "outputs": [],
   "source": [],
   "metadata": {
    "collapsed": false
   },
   "id": "f31f9746467d05f5"
  }
 ],
 "metadata": {
  "kernelspec": {
   "display_name": "Python 3",
   "language": "python",
   "name": "python3"
  },
  "language_info": {
   "codemirror_mode": {
    "name": "ipython",
    "version": 2
   },
   "file_extension": ".py",
   "mimetype": "text/x-python",
   "name": "python",
   "nbconvert_exporter": "python",
   "pygments_lexer": "ipython2",
   "version": "2.7.6"
  }
 },
 "nbformat": 4,
 "nbformat_minor": 5
}
