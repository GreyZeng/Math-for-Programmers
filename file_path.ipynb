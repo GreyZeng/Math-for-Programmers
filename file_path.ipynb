{
 "cells": [
  {
   "cell_type": "code",
   "execution_count": null,
   "id": "initial_id",
   "metadata": {
    "collapsed": true
   },
   "outputs": [],
   "source": [
    "from pathlib import Path\n",
    "import os\n",
    "Path.cwd().is_absolute()\n"
   ]
  },
  {
   "cell_type": "code",
   "execution_count": null,
   "outputs": [],
   "source": [
    "Path.cwd()"
   ],
   "metadata": {
    "collapsed": false
   },
   "id": "dd709253116d98fe"
  },
  {
   "cell_type": "code",
   "execution_count": null,
   "outputs": [],
   "source": [
    "Path('spam/bacon/eggs').is_absolute()"
   ],
   "metadata": {
    "collapsed": false
   },
   "id": "74f26dc94dcd530"
  },
  {
   "cell_type": "code",
   "execution_count": null,
   "outputs": [],
   "source": [
    "Path('my/relative/path')"
   ],
   "metadata": {
    "collapsed": false
   },
   "id": "cd333ad147edd1d9"
  },
  {
   "cell_type": "code",
   "execution_count": null,
   "outputs": [],
   "source": [
    "Path.cwd()/Path('my/relative/path')"
   ],
   "metadata": {
    "collapsed": false
   },
   "id": "cb7052f3800b21c8"
  },
  {
   "cell_type": "code",
   "execution_count": null,
   "outputs": [],
   "source": [
    "Path.home()/Path('my/relative/path')"
   ],
   "metadata": {
    "collapsed": false
   },
   "id": "f02f7e97fe050440"
  },
  {
   "cell_type": "code",
   "execution_count": null,
   "outputs": [],
   "source": [
    "os.path.abspath('.')"
   ],
   "metadata": {
    "collapsed": false
   },
   "id": "11087c7efa8eb722"
  },
  {
   "cell_type": "code",
   "execution_count": null,
   "outputs": [],
   "source": [
    "os.path.abspath('.\\\\Scripts')"
   ],
   "metadata": {
    "collapsed": false
   },
   "id": "b39ff865e0c58f61"
  },
  {
   "cell_type": "code",
   "execution_count": null,
   "outputs": [],
   "source": [
    "os.path.isabs('.')"
   ],
   "metadata": {
    "collapsed": false
   },
   "id": "3a1f51e98ca49c59"
  },
  {
   "cell_type": "code",
   "execution_count": null,
   "outputs": [],
   "source": [
    "os.path.isabs(os.path.abspath('.'))"
   ],
   "metadata": {
    "collapsed": false
   },
   "id": "5c2598ecda25533d"
  },
  {
   "cell_type": "code",
   "execution_count": null,
   "outputs": [],
   "source": [
    "os.path.relpath('C:\\\\Windows','C:\\\\')"
   ],
   "metadata": {
    "collapsed": false
   },
   "id": "4c46ac00139cda02"
  },
  {
   "cell_type": "code",
   "execution_count": null,
   "outputs": [],
   "source": [
    "os.path.relpath('C:\\\\Windows','C:\\\\spam\\\\eggs')"
   ],
   "metadata": {
    "collapsed": false
   },
   "id": "131a873ffab10726"
  },
  {
   "cell_type": "code",
   "execution_count": null,
   "outputs": [],
   "source": [
    "p = Path('C:/Users/zhuiz/spam.txt')\n",
    "p.anchor"
   ],
   "metadata": {
    "collapsed": false
   },
   "id": "7a7371c3a572d091"
  },
  {
   "cell_type": "code",
   "execution_count": null,
   "outputs": [],
   "source": [
    "p.parent"
   ],
   "metadata": {
    "collapsed": false
   },
   "id": "153b48edb6a0aaef"
  },
  {
   "cell_type": "code",
   "execution_count": null,
   "outputs": [],
   "source": [
    "p.name"
   ],
   "metadata": {
    "collapsed": false
   },
   "id": "98e3e61ad9da40a1"
  },
  {
   "cell_type": "code",
   "execution_count": null,
   "outputs": [],
   "source": [
    "# 主干名，也叫文件名，和后缀名是区分的\n",
    "p.stem"
   ],
   "metadata": {
    "collapsed": false
   },
   "id": "18bcd16bd5a90e7f"
  },
  {
   "cell_type": "code",
   "execution_count": null,
   "outputs": [],
   "source": [
    "p.suffix"
   ],
   "metadata": {
    "collapsed": false
   },
   "id": "54c59186cc680b70"
  },
  {
   "cell_type": "code",
   "execution_count": null,
   "outputs": [],
   "source": [
    "p.drive"
   ],
   "metadata": {
    "collapsed": false
   },
   "id": "a501971cbc0da67"
  },
  {
   "cell_type": "code",
   "execution_count": null,
   "outputs": [],
   "source": [
    "import os\n",
    "calc_file_path = 'C:\\\\Windows\\\\System32\\\\calc.exe'\n",
    "os.path.basename(calc_file_path)"
   ],
   "metadata": {
    "collapsed": false
   },
   "id": "209fbe1b679d1caf"
  },
  {
   "cell_type": "code",
   "execution_count": null,
   "outputs": [],
   "source": [
    "os.path.dirname(calc_file_path)"
   ],
   "metadata": {
    "collapsed": false
   },
   "id": "712ab963eb01cbb4"
  },
  {
   "cell_type": "code",
   "execution_count": null,
   "outputs": [],
   "source": [
    "os.path.split(calc_file_path)"
   ],
   "metadata": {
    "collapsed": false
   },
   "id": "c994a10d53171e27"
  },
  {
   "cell_type": "code",
   "execution_count": null,
   "outputs": [],
   "source": [
    "calc_file_path.split(os.sep)"
   ],
   "metadata": {
    "collapsed": false
   },
   "id": "7738e6e09ab7d356"
  },
  {
   "cell_type": "code",
   "execution_count": null,
   "outputs": [],
   "source": [
    "os.path.getsize(calc_file_path)"
   ],
   "metadata": {
    "collapsed": false
   },
   "id": "d63da31e96c71d0e"
  },
  {
   "cell_type": "code",
   "execution_count": null,
   "outputs": [],
   "source": [
    "# 包含文件和文件夹\n",
    "os.listdir('C:\\\\Windows\\\\System32')"
   ],
   "metadata": {
    "collapsed": false
   },
   "id": "9eac0adfa29db500"
  },
  {
   "cell_type": "code",
   "execution_count": null,
   "outputs": [],
   "source": [
    "total_size = 0\n",
    "for file_name in os.listdir('C:\\\\Windows\\\\System32'):\n",
    "    total_size = total_size + os.path.getsize(os.path.join('C:\\\\Windows\\\\System32',file_name))\n",
    "print(total_size)"
   ],
   "metadata": {
    "collapsed": false
   },
   "id": "64beda28c5dd2201"
  },
  {
   "cell_type": "code",
   "execution_count": null,
   "outputs": [],
   "source": [
    "from pathlib import Path\n",
    "import os\n",
    "p = Path('C:/Users/zhuiz/Desktop')\n",
    "p.glob('*')"
   ],
   "metadata": {
    "collapsed": false
   },
   "id": "f31f9746467d05f5"
  },
  {
   "cell_type": "code",
   "execution_count": null,
   "outputs": [],
   "source": [
    "list(p.glob('*'))"
   ],
   "metadata": {
    "collapsed": false
   },
   "id": "30b8e9562ad64ad8"
  },
  {
   "cell_type": "code",
   "execution_count": null,
   "outputs": [],
   "source": [
    "# list all txt files\n",
    "list(p.glob('*.txt'))"
   ],
   "metadata": {
    "collapsed": false
   },
   "id": "1ca2231355b7ee16"
  },
  {
   "cell_type": "code",
   "execution_count": null,
   "outputs": [],
   "source": [
    "# 问号匹配一个字符\n",
    "list(p.glob('project?.docx'))"
   ],
   "metadata": {
    "collapsed": false
   },
   "id": "2895b5ab28fae429"
  },
  {
   "cell_type": "code",
   "execution_count": null,
   "outputs": [],
   "source": [
    "# 返回具有任意名称和任意3个字符的扩展名的文件，但扩展名的中间字符必须为'x'\n",
    "list(p.glob('*.?x?'))"
   ],
   "metadata": {
    "collapsed": false
   },
   "id": "7b14a70691226ab8"
  },
  {
   "cell_type": "code",
   "execution_count": null,
   "outputs": [],
   "source": [
    "p = Path('C:/workspace')\n",
    "for text_file in p.glob('*.txt'):\n",
    "    print(text_file)"
   ],
   "metadata": {
    "collapsed": false
   },
   "id": "ad20867bc9042be8"
  },
  {
   "cell_type": "code",
   "execution_count": null,
   "outputs": [],
   "source": [
    "win_dir = Path('C:/Windows')\n",
    "not_exist_dir = Path('C:/This/That/Not/Exist')\n",
    "calc_file_path = Path('C:/Windows/System32/calc.exe')\n",
    "print(win_dir.exists())\n",
    "print(not_exist_dir.exists())\n",
    "print(calc_file_path.exists())"
   ],
   "metadata": {
    "collapsed": false
   },
   "id": "b0d2cfb95f41ad28"
  },
  {
   "cell_type": "code",
   "execution_count": null,
   "outputs": [],
   "source": [
    "d_drive = Path('D:/')\n",
    "d_drive.exists()"
   ],
   "metadata": {
    "collapsed": false
   },
   "id": "50ef5f89331a81aa"
  },
  {
   "cell_type": "code",
   "execution_count": null,
   "outputs": [],
   "source": [
    "p = Path('spam.txt')\n",
    "p.write_text('Hello1')\n",
    "p.read_text()"
   ],
   "metadata": {
    "collapsed": false
   },
   "id": "e0ed514395f0a3d8"
  },
  {
   "cell_type": "code",
   "execution_count": 29,
   "outputs": [
    {
     "name": "stdout",
     "output_type": "stream",
     "text": [
      "asdfasdfasf\n"
     ]
    }
   ],
   "source": [
    "hello_file = open(Path.home() / 'hello.txt')\n",
    "hello_file_content = hello_file.read()\n",
    "print(hello_file_content)"
   ],
   "metadata": {
    "collapsed": false,
    "ExecuteTime": {
     "end_time": "2023-12-04T06:51:18.878986300Z",
     "start_time": "2023-12-04T06:51:18.866274600Z"
    }
   },
   "id": "2f8f0d46aac234e3"
  },
  {
   "cell_type": "code",
   "execution_count": 30,
   "outputs": [
    {
     "data": {
      "text/plain": "['\\n', 'asdfasdf\\n', 'dads\\n']"
     },
     "execution_count": 30,
     "metadata": {},
     "output_type": "execute_result"
    }
   ],
   "source": [
    "hello_file.readlines()"
   ],
   "metadata": {
    "collapsed": false,
    "ExecuteTime": {
     "end_time": "2023-12-04T06:52:02.911078600Z",
     "start_time": "2023-12-04T06:52:02.893505800Z"
    }
   },
   "id": "639e62d8cb989de6"
  },
  {
   "cell_type": "code",
   "execution_count": null,
   "outputs": [],
   "source": [],
   "metadata": {
    "collapsed": false
   },
   "id": "ea8b784f22e504f8"
  }
 ],
 "metadata": {
  "kernelspec": {
   "display_name": "Python 3",
   "language": "python",
   "name": "python3"
  },
  "language_info": {
   "codemirror_mode": {
    "name": "ipython",
    "version": 2
   },
   "file_extension": ".py",
   "mimetype": "text/x-python",
   "name": "python",
   "nbconvert_exporter": "python",
   "pygments_lexer": "ipython2",
   "version": "2.7.6"
  }
 },
 "nbformat": 4,
 "nbformat_minor": 5
}
